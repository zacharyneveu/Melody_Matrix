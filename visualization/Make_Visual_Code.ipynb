{
 "cells": [
  {
   "cell_type": "code",
   "execution_count": 8,
   "metadata": {
    "Collapsed": "false"
   },
   "outputs": [],
   "source": [
    "from color_code_2 import color_code\n",
    "from PIL import Image\n",
    "from matplotlib.pyplot import imshow\n",
    "import webcolors as wc\n",
    "import colorsys"
   ]
  },
  {
   "cell_type": "code",
   "execution_count": 12,
   "metadata": {
    "Collapsed": "false"
   },
   "outputs": [],
   "source": [
    "class Note:\n",
    "    \"\"\" Note class holds all information for one MIDI note\n",
    "        Attributes:\n",
    "            pitch    (0:127): pitch of note on keyboard\n",
    "            velocity (0:127): amplitude/loudness of note\n",
    "            channel  (0:127): how far left/right in the mix a note is\n",
    "    \"\"\"\n",
    "    def __init__(self, velocity, pitch, channel):\n",
    "        self.pitch = pitch\n",
    "        self.velocity = velocity\n",
    "        self.channel = channel\n",
    "        assert 0 <= pitch <= 127,    \"Pitch must be between 0 and 127\"\n",
    "        assert 0 <= velocity <= 127, \"Velocity must be between 0 and 127\"\n",
    "        assert 0 <= channel <= 127,  \"Velocity must be between 0 and 127\"\n",
    "\n",
    "\n",
    "class Genre:\n",
    "    \"\"\" Holds a genre as an integer\n",
    "    \"\"\"\n",
    "    def __init__(self, g):\n",
    "        self.possible_genres = {0: 'class', 1: 'pop', 2: 'r&b', 3: 'folk',\n",
    "                                4: 'hiphop', 5: 'edm', 6: 'rock', 7: 'blues', 8: 'default'}\n",
    "        if type(g) is int:\n",
    "            self.genre = self.possible_genres[g]\n",
    "        else:\n",
    "            self.genre = g\n",
    "        assert self.genre in self.possible_genres.values(), \"Genre does not exist\"\n",
    "        self.colors = color_code[self.genre]\n",
    "\n",
    "    def get_genre_name(self, genre_num):\n",
    "        \"\"\" returns genre name given the genre number \"\"\"\n",
    "        assert genre_num in self.possible_genres.keys(), \"unknown genre\"\n",
    "        return self.possible_genres(genre_num)\n",
    "    \n",
    "class Frame:\n",
    "    \"\"\" Holds a list of notes and a genre. Instances of this class are \n",
    "        what is output by the machine learning code \n",
    "        Params:\n",
    "            notes (list) : list of Note objects\n",
    "            genre (Genre): single genre\n",
    "    \"\"\"\n",
    "\n",
    "    def __init__(self, notes, genre):\n",
    "        self.notes = notes\n",
    "        assert type(notes[0]) is Note, \"notes should be an array of type `Note`\"\n",
    "        self.genre = genre\n",
    "        assert type(genre) is Genre, \"genre should be of type Genre\""
   ]
  },
  {
   "cell_type": "code",
   "execution_count": 103,
   "metadata": {
    "Collapsed": "false"
   },
   "outputs": [],
   "source": [
    "class Cube:\n",
    "    \"\"\"\n",
    "    Maps a frame to cube indices and colors and provides methods to pass\n",
    "    this info to the Arduino controlling the cube\n",
    "    \"\"\"\n",
    "    def __init__(self, size):\n",
    "        \"\"\" Creates a new cube based on a size\n",
    "        \"\"\"\n",
    "        self.size   = size\n",
    "        self.matrix = [[[\"#000000\" for x in range(size)] for y in range(size)] for z in range(size)]\n",
    "        \n",
    "    def clear(self):\n",
    "        \"\"\" reset all colors to zeros\n",
    "        \"\"\"\n",
    "        self.matrix = [[[\"#000000\" for x in range(self.size)] for y in range(self.size)] for z in range(self.size)]\n",
    "        \n",
    "    def get_xyz(self, note):\n",
    "        \"\"\" gets x, y, z values given a Note object\n",
    "            x: left/right value\n",
    "            y: octave\n",
    "            z: stack of notes\n",
    "        \"\"\"\n",
    "        # channel is float 0-127, convert to int 0-self.size\n",
    "        x = int(note.channel // (127 / self.size))\n",
    "        \n",
    "        # display from octave 1 up to size of cube in octaves\n",
    "        # return None if y invalid (out of range)\n",
    "        y = int((note.pitch-12) // 12) if 12 <= note.pitch < (self.size+1)*12 else None\n",
    "        if y is None or x is None:\n",
    "            return None\n",
    "        z = self.matrix[x][y].index(\"#000000\")\n",
    "        if z is None:\n",
    "            return None\n",
    "        return (x, y, z)\n",
    "    \n",
    "    def get_color(self, genre, note):\n",
    "        \"\"\" Gets color for note based on genre\n",
    "            TODO: hold color codes in genre class, access from there\n",
    "            TODO: fix color codes so brightness based on velocity\n",
    "        \"\"\"\n",
    "        note_in_octave = note.pitch%12\n",
    "        try:\n",
    "            hex_code = \"#\"+genre.colors[note_in_octave]\n",
    "            hls = list(colorsys.rgb_to_hls(*wc.hex_to_rgb(hex_code)))\n",
    "            # update lightness based on velocity but from 0-255\n",
    "            hls[1] = note.velocity * 2\n",
    "            rgb = colorsys.hls_to_rgb(*[int(round(x)) for x in hls])\n",
    "            #wc.rgb_to_hex([int(x) for x in rgb])\n",
    "            return hex_code\n",
    "        except Exception as E:\n",
    "            return \"#000000\"\n",
    "        \n",
    "    def display_screen(self, layer, swatch_size=10):\n",
    "        img = Image.new(\"RGB\", (swatch_size*self.size,swatch_size*self.size))\n",
    "        for x in range(self.size):\n",
    "             for y in range(self.size):\n",
    "                    img.paste(self.matrix[x][y][layer], (x*swatch_size, y*swatch_size, (x+1)*swatch_size, (y+1)*swatch_size))\n",
    "        return img.transpose(Image.FLIP_TOP_BOTTOM)\n",
    "    \n",
    "    def process_frame(self, frame):\n",
    "        \"\"\" Updates cube with new frame information\n",
    "            Steps:\n",
    "                + Clear cube\n",
    "                + For each note\n",
    "                    + get x,y,z position (0-5 in each access)\n",
    "                    + get color\n",
    "                    + update color for index of matrix\n",
    "        \"\"\"\n",
    "        self.clear()\n",
    "        for note in frame.notes:\n",
    "            try:\n",
    "                x, y, z = self.get_xyz(note)\n",
    "            except:\n",
    "                continue\n",
    "            color = self.get_color(frame.genre, note)\n",
    "            #print(f\"{x}, {y}, {z}, {color}\")\n",
    "            self.matrix[x][y][z] = color\n",
    "        "
   ]
  },
  {
   "cell_type": "code",
   "execution_count": 107,
   "metadata": {
    "Collapsed": "false"
   },
   "outputs": [
    {
     "data": {
      "image/png": "[encoded data removed]",
      "text/plain": [
       "<PIL.Image.Image image mode=RGB size=60x60 at 0x7FA55959EF50>"
      ]
     },
     "metadata": {},
     "output_type": "display_data"
    },
    {
     "data": {
      "image/png": "[encoded data removed]",
      "text/plain": [
       "<PIL.Image.Image image mode=RGB size=60x60 at 0x7FA55959EF50>"
      ]
     },
     "metadata": {},
     "output_type": "display_data"
    },
    {
     "data": {
      "image/png": "[encoded data removed]",
      "text/plain": [
       "<PIL.Image.Image image mode=RGB size=60x60 at 0x7FA55959EF50>"
      ]
     },
     "metadata": {},
     "output_type": "display_data"
    },
    {
     "data": {
      "image/png": "[encoded data removed]",
      "text/plain": [
       "<PIL.Image.Image image mode=RGB size=60x60 at 0x7FA55959EF50>"
      ]
     },
     "metadata": {},
     "output_type": "display_data"
    },
    {
     "data": {
      "image/png": "[encoded data removed]",
      "text/plain": [
       "<PIL.Image.Image image mode=RGB size=60x60 at 0x7FA559921D90>"
      ]
     },
     "metadata": {},
     "output_type": "display_data"
    },
    {
     "data": {
      "image/png": "[encoded data removed]",
      "text/plain": [
       "<PIL.Image.Image image mode=RGB size=60x60 at 0x7FA559757CD0>"
      ]
     },
     "metadata": {},
     "output_type": "display_data"
    },
    {
     "data": {
      "text/plain": [
       "[None, None, None, None, None, None]"
      ]
     },
     "execution_count": 107,
     "metadata": {},
     "output_type": "execute_result"
    }
   ],
   "source": [
    "from random import randint\n",
    "\n",
    "#notes = [Note(40, 83, 10), Note(87, 19, 121), Note(20, 51, 64)]\n",
    "notes = [Note(randint(10,127),i,randint(0,127)) for i in range(12, 127)]\n",
    "f = Frame(notes, Genre('default'))\n",
    "\n",
    "c = Cube(6)\n",
    "\n",
    "c.process_frame(f)\n",
    "\n",
    "[display(c.display_screen(i)) for i in range(c.size)]"
   ]
  },
  {
   "cell_type": "code",
   "execution_count": null,
   "metadata": {
    "Collapsed": "false"
   },
   "outputs": [],
   "source": []
  }
 ],
 "metadata": {
  "kernelspec": {
   "display_name": "Python 3",
   "language": "python",
   "name": "python3"
  },
  "language_info": {
   "codemirror_mode": {
    "name": "ipython",
    "version": 3
   },
   "file_extension": ".py",
   "mimetype": "text/x-python",
   "name": "python",
   "nbconvert_exporter": "python",
   "pygments_lexer": "ipython3",
   "version": "3.7.6"
  }
 },
 "nbformat": 4,
 "nbformat_minor": 4
}
