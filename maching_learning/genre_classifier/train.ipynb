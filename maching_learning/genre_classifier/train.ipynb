{
 "cells": [
  {
   "cell_type": "code",
   "execution_count": 4,
   "metadata": {
    "Collapsed": "false"
   },
   "outputs": [],
   "source": [
    "from imports import *\n",
    "import pandas as pd"
   ]
  },
  {
   "cell_type": "code",
   "execution_count": 5,
   "metadata": {
    "Collapsed": "false"
   },
   "outputs": [],
   "source": [
    "data = Path(\"/home/zach/Data/fma_medium\")\n",
    "meta = data/\"fma_metadata\""
   ]
  },
  {
   "cell_type": "code",
   "execution_count": 72,
   "metadata": {
    "Collapsed": "false"
   },
   "outputs": [],
   "source": [
    "tracks = pd.read_csv(meta/\"raw_tracks.csv\")"
   ]
  },
  {
   "cell_type": "code",
   "execution_count": 87,
   "metadata": {
    "Collapsed": "false"
   },
   "outputs": [
    {
     "data": {
      "text/plain": [
       "0              2\n",
       "1              3\n",
       "2              5\n",
       "3             10\n",
       "4             20\n",
       "5             26\n",
       "6             30\n",
       "7             46\n",
       "8             48\n",
       "9            134\n",
       "10           135\n",
       "11           136\n",
       "12           137\n",
       "13           138\n",
       "14           139\n",
       "15           140\n",
       "16           141\n",
       "17           142\n",
       "18           144\n",
       "19           145\n",
       "20           146\n",
       "21           147\n",
       "22           148\n",
       "23           149\n",
       "24           150\n",
       "25           151\n",
       "26           152\n",
       "27           153\n",
       "28           154\n",
       "29           155\n",
       "           ...  \n",
       "109697    155290\n",
       "109698    155291\n",
       "109699    155292\n",
       "109700    155293\n",
       "109701    155294\n",
       "109702    155295\n",
       "109703    155296\n",
       "109704    155297\n",
       "109705    155298\n",
       "109706    155299\n",
       "109707    155300\n",
       "109708    155301\n",
       "109709    155302\n",
       "109710    155303\n",
       "109711    155304\n",
       "109712    155305\n",
       "109713    155306\n",
       "109714    155307\n",
       "109715    155308\n",
       "109716    155309\n",
       "109717    155310\n",
       "109718    155311\n",
       "109719    155312\n",
       "109720    155314\n",
       "109721    155315\n",
       "109722    155316\n",
       "109723    155317\n",
       "109724    155318\n",
       "109725    155319\n",
       "109726    155320\n",
       "Name: track_id, Length: 109727, dtype: int64"
      ]
     },
     "execution_count": 87,
     "metadata": {},
     "output_type": "execute_result"
    }
   ],
   "source": [
    "tracks.track_id"
   ]
  },
  {
   "cell_type": "code",
   "execution_count": 65,
   "metadata": {
    "Collapsed": "false"
   },
   "outputs": [],
   "source": [
    "def plot_swatch(colors, names):\n",
    "    fig, ax = plt.subplots()\n",
    "    xwidth = 1/len(colors)\n",
    "    print(xwidth)\n",
    "    rectangles = [plt.Rectangle((1/len(colors)*i,0), xwidth, 1, fill=True, color=c) for i,c in enumerate(colors)]\n",
    "    for r,t in enumerate(names):\n",
    "        ax.add_artist(rectangles[r])\n",
    "        rx, ry = rectangles[r].get_xy()\n",
    "        cx = rx + rectangles[r].get_width()/2.0\n",
    "        cy = ry + rectangles[r].get_height()/2.0\n",
    "\n",
    "        ax.annotate(t, (cx, cy), color='w', weight='bold', \n",
    "                    fontsize=13, ha='center', va='center')\n",
    "    plt.show()"
   ]
  },
  {
   "cell_type": "code",
   "execution_count": 66,
   "metadata": {
    "Collapsed": "false"
   },
   "outputs": [],
   "source": [
    "genres = pd.read_csv(meta/\"raw_genres.csv\")"
   ]
  },
  {
   "cell_type": "code",
   "execution_count": 67,
   "metadata": {
    "Collapsed": "false"
   },
   "outputs": [
    {
     "data": {
      "text/html": [
       "<div>\n",
       "<style scoped>\n",
       "    .dataframe tbody tr th:only-of-type {\n",
       "        vertical-align: middle;\n",
       "    }\n",
       "\n",
       "    .dataframe tbody tr th {\n",
       "        vertical-align: top;\n",
       "    }\n",
       "\n",
       "    .dataframe thead th {\n",
       "        text-align: right;\n",
       "    }\n",
       "</style>\n",
       "<table border=\"1\" class=\"dataframe\">\n",
       "  <thead>\n",
       "    <tr style=\"text-align: right;\">\n",
       "      <th></th>\n",
       "      <th>genre_id</th>\n",
       "      <th>genre_color</th>\n",
       "      <th>genre_handle</th>\n",
       "      <th>genre_parent_id</th>\n",
       "      <th>genre_title</th>\n",
       "    </tr>\n",
       "  </thead>\n",
       "  <tbody>\n",
       "    <tr>\n",
       "      <th>0</th>\n",
       "      <td>1</td>\n",
       "      <td>#006666</td>\n",
       "      <td>Avant-Garde</td>\n",
       "      <td>38.0</td>\n",
       "      <td>Avant-Garde</td>\n",
       "    </tr>\n",
       "    <tr>\n",
       "      <th>1</th>\n",
       "      <td>2</td>\n",
       "      <td>#CC3300</td>\n",
       "      <td>International</td>\n",
       "      <td>NaN</td>\n",
       "      <td>International</td>\n",
       "    </tr>\n",
       "    <tr>\n",
       "      <th>2</th>\n",
       "      <td>3</td>\n",
       "      <td>#000099</td>\n",
       "      <td>Blues</td>\n",
       "      <td>NaN</td>\n",
       "      <td>Blues</td>\n",
       "    </tr>\n",
       "    <tr>\n",
       "      <th>3</th>\n",
       "      <td>4</td>\n",
       "      <td>#990099</td>\n",
       "      <td>Jazz</td>\n",
       "      <td>NaN</td>\n",
       "      <td>Jazz</td>\n",
       "    </tr>\n",
       "    <tr>\n",
       "      <th>4</th>\n",
       "      <td>5</td>\n",
       "      <td>#8A8A65</td>\n",
       "      <td>Classical</td>\n",
       "      <td>NaN</td>\n",
       "      <td>Classical</td>\n",
       "    </tr>\n",
       "  </tbody>\n",
       "</table>\n",
       "</div>"
      ],
      "text/plain": [
       "   genre_id genre_color   genre_handle  genre_parent_id    genre_title\n",
       "0         1     #006666    Avant-Garde             38.0    Avant-Garde\n",
       "1         2     #CC3300  International              NaN  International\n",
       "2         3     #000099          Blues              NaN          Blues\n",
       "3         4     #990099           Jazz              NaN           Jazz\n",
       "4         5     #8A8A65      Classical              NaN      Classical"
      ]
     },
     "execution_count": 67,
     "metadata": {},
     "output_type": "execute_result"
    }
   ],
   "source": [
    "genres.head()"
   ]
  },
  {
   "cell_type": "code",
   "execution_count": 69,
   "metadata": {
    "Collapsed": "false"
   },
   "outputs": [
    {
     "name": "stdout",
     "output_type": "stream",
     "text": [
      "0.2\n"
     ]
    },
    {
     "data": {
      "image/png": "[encoded data removed]",
      "text/plain": [
       "<Figure size 720x576 with 1 Axes>"
      ]
     },
     "metadata": {
      "needs_background": "light"
     },
     "output_type": "display_data"
    }
   ],
   "source": [
    "plot_swatch(genres.genre_color.head(5), genres.genre_title.head(5))"
   ]
  },
  {
   "cell_type": "code",
   "execution_count": null,
   "metadata": {
    "Collapsed": "false"
   },
   "outputs": [],
   "source": []
  }
 ],
 "metadata": {
  "kernelspec": {
   "display_name": "Python 3",
   "language": "python",
   "name": "python3"
  },
  "language_info": {
   "codemirror_mode": {
    "name": "ipython",
    "version": 3
   },
   "file_extension": ".py",
   "mimetype": "text/x-python",
   "name": "python",
   "nbconvert_exporter": "python",
   "pygments_lexer": "ipython3",
   "version": "3.7.6"
  }
 },
 "nbformat": 4,
 "nbformat_minor": 4
}
