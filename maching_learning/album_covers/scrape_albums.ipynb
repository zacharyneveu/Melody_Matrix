{
 "cells": [
  {
   "cell_type": "raw",
   "metadata": {
    "Collapsed": "false"
   },
   "source": [
    "!pip install pylast"
   ]
  },
  {
   "cell_type": "code",
   "execution_count": 1,
   "metadata": {
    "Collapsed": "false"
   },
   "outputs": [],
   "source": [
    "import pylast\n",
    "import pandas as pd\n",
    "from pathlib import Path\n",
    "import requests\n",
    "from IPython.display import Image, display\n",
    "import ast\n",
    "import os\n",
    "from glob import glob\n",
    "from tqdm.auto import tqdm"
   ]
  },
  {
   "cell_type": "code",
   "execution_count": 9,
   "metadata": {
    "Collapsed": "false"
   },
   "outputs": [
    {
     "name": "stderr",
     "output_type": "stream",
     "text": [
      "/home/zach/anaconda3/lib/python3.7/site-packages/tqdm/std.py:658: FutureWarning: The Panel class is removed from pandas. Accessing it from the top-level namespace will also be removed in the next version\n",
      "  from pandas import Panel\n"
     ]
    }
   ],
   "source": [
    "tqdm.pandas()"
   ]
  },
  {
   "cell_type": "code",
   "execution_count": 2,
   "metadata": {
    "Collapsed": "false"
   },
   "outputs": [],
   "source": [
    "API_KEY = \"e22d3ef6eb85b8b554fc0a7e3832cd75\"  # this is a sample key\n",
    "API_SECRET = \"7e575d3a57cb58e19ebbba4dbee919db\"\n",
    "\n",
    "# In order to perform a write operation you need to authenticate yourself\n",
    "username = \"zacharyneveu\"\n",
    "password_hash = \"817ff0e30b8425e4bb511be5969a7115\"\n",
    "\n",
    "network = pylast.LastFMNetwork(api_key=API_KEY, api_secret=API_SECRET,\n",
    "                               username=username, password_hash=password_hash)"
   ]
  },
  {
   "cell_type": "code",
   "execution_count": 19,
   "metadata": {
    "Collapsed": "false"
   },
   "outputs": [],
   "source": [
    "datap = Path(\"/home/zach/Data/fma_medium/fma_meta\")"
   ]
  },
  {
   "cell_type": "code",
   "execution_count": 20,
   "metadata": {
    "Collapsed": "false"
   },
   "outputs": [],
   "source": [
    "df = pd.read_csv(datap/\"raw_tracks.csv\")"
   ]
  },
  {
   "cell_type": "code",
   "execution_count": 21,
   "metadata": {
    "Collapsed": "false"
   },
   "outputs": [
    {
     "data": {
      "text/html": [
       "<div>\n",
       "<style scoped>\n",
       "    .dataframe tbody tr th:only-of-type {\n",
       "        vertical-align: middle;\n",
       "    }\n",
       "\n",
       "    .dataframe tbody tr th {\n",
       "        vertical-align: top;\n",
       "    }\n",
       "\n",
       "    .dataframe thead th {\n",
       "        text-align: right;\n",
       "    }\n",
       "</style>\n",
       "<table border=\"1\" class=\"dataframe\">\n",
       "  <thead>\n",
       "    <tr style=\"text-align: right;\">\n",
       "      <th></th>\n",
       "      <th>track_id</th>\n",
       "      <th>album_id</th>\n",
       "      <th>album_title</th>\n",
       "      <th>album_url</th>\n",
       "      <th>artist_id</th>\n",
       "      <th>artist_name</th>\n",
       "      <th>artist_url</th>\n",
       "      <th>artist_website</th>\n",
       "      <th>license_image_file</th>\n",
       "      <th>license_image_file_large</th>\n",
       "      <th>...</th>\n",
       "      <th>track_information</th>\n",
       "      <th>track_instrumental</th>\n",
       "      <th>track_interest</th>\n",
       "      <th>track_language_code</th>\n",
       "      <th>track_listens</th>\n",
       "      <th>track_lyricist</th>\n",
       "      <th>track_number</th>\n",
       "      <th>track_publisher</th>\n",
       "      <th>track_title</th>\n",
       "      <th>track_url</th>\n",
       "    </tr>\n",
       "  </thead>\n",
       "  <tbody>\n",
       "    <tr>\n",
       "      <th>0</th>\n",
       "      <td>2</td>\n",
       "      <td>1.0</td>\n",
       "      <td>AWOL - A Way Of Life</td>\n",
       "      <td>http://freemusicarchive.org/music/AWOL/AWOL_-_...</td>\n",
       "      <td>1</td>\n",
       "      <td>AWOL</td>\n",
       "      <td>http://freemusicarchive.org/music/AWOL/</td>\n",
       "      <td>http://www.AzillionRecords.blogspot.com</td>\n",
       "      <td>http://i.creativecommons.org/l/by-nc-sa/3.0/us...</td>\n",
       "      <td>http://fma-files.s3.amazonaws.com/resources/im...</td>\n",
       "      <td>...</td>\n",
       "      <td>NaN</td>\n",
       "      <td>0</td>\n",
       "      <td>4656</td>\n",
       "      <td>en</td>\n",
       "      <td>1293</td>\n",
       "      <td>NaN</td>\n",
       "      <td>3</td>\n",
       "      <td>NaN</td>\n",
       "      <td>Food</td>\n",
       "      <td>http://freemusicarchive.org/music/AWOL/AWOL_-_...</td>\n",
       "    </tr>\n",
       "    <tr>\n",
       "      <th>1</th>\n",
       "      <td>3</td>\n",
       "      <td>1.0</td>\n",
       "      <td>AWOL - A Way Of Life</td>\n",
       "      <td>http://freemusicarchive.org/music/AWOL/AWOL_-_...</td>\n",
       "      <td>1</td>\n",
       "      <td>AWOL</td>\n",
       "      <td>http://freemusicarchive.org/music/AWOL/</td>\n",
       "      <td>http://www.AzillionRecords.blogspot.com</td>\n",
       "      <td>http://i.creativecommons.org/l/by-nc-sa/3.0/us...</td>\n",
       "      <td>http://fma-files.s3.amazonaws.com/resources/im...</td>\n",
       "      <td>...</td>\n",
       "      <td>NaN</td>\n",
       "      <td>0</td>\n",
       "      <td>1470</td>\n",
       "      <td>en</td>\n",
       "      <td>514</td>\n",
       "      <td>NaN</td>\n",
       "      <td>4</td>\n",
       "      <td>NaN</td>\n",
       "      <td>Electric Ave</td>\n",
       "      <td>http://freemusicarchive.org/music/AWOL/AWOL_-_...</td>\n",
       "    </tr>\n",
       "    <tr>\n",
       "      <th>2</th>\n",
       "      <td>5</td>\n",
       "      <td>1.0</td>\n",
       "      <td>AWOL - A Way Of Life</td>\n",
       "      <td>http://freemusicarchive.org/music/AWOL/AWOL_-_...</td>\n",
       "      <td>1</td>\n",
       "      <td>AWOL</td>\n",
       "      <td>http://freemusicarchive.org/music/AWOL/</td>\n",
       "      <td>http://www.AzillionRecords.blogspot.com</td>\n",
       "      <td>http://i.creativecommons.org/l/by-nc-sa/3.0/us...</td>\n",
       "      <td>http://fma-files.s3.amazonaws.com/resources/im...</td>\n",
       "      <td>...</td>\n",
       "      <td>NaN</td>\n",
       "      <td>0</td>\n",
       "      <td>1933</td>\n",
       "      <td>en</td>\n",
       "      <td>1151</td>\n",
       "      <td>NaN</td>\n",
       "      <td>6</td>\n",
       "      <td>NaN</td>\n",
       "      <td>This World</td>\n",
       "      <td>http://freemusicarchive.org/music/AWOL/AWOL_-_...</td>\n",
       "    </tr>\n",
       "    <tr>\n",
       "      <th>3</th>\n",
       "      <td>10</td>\n",
       "      <td>6.0</td>\n",
       "      <td>Constant Hitmaker</td>\n",
       "      <td>http://freemusicarchive.org/music/Kurt_Vile/Co...</td>\n",
       "      <td>6</td>\n",
       "      <td>Kurt Vile</td>\n",
       "      <td>http://freemusicarchive.org/music/Kurt_Vile/</td>\n",
       "      <td>http://kurtvile.com</td>\n",
       "      <td>http://i.creativecommons.org/l/by-nc-nd/3.0/88...</td>\n",
       "      <td>http://fma-files.s3.amazonaws.com/resources/im...</td>\n",
       "      <td>...</td>\n",
       "      <td>NaN</td>\n",
       "      <td>0</td>\n",
       "      <td>54881</td>\n",
       "      <td>en</td>\n",
       "      <td>50135</td>\n",
       "      <td>NaN</td>\n",
       "      <td>1</td>\n",
       "      <td>NaN</td>\n",
       "      <td>Freeway</td>\n",
       "      <td>http://freemusicarchive.org/music/Kurt_Vile/Co...</td>\n",
       "    </tr>\n",
       "    <tr>\n",
       "      <th>4</th>\n",
       "      <td>20</td>\n",
       "      <td>4.0</td>\n",
       "      <td>Niris</td>\n",
       "      <td>http://freemusicarchive.org/music/Chris_and_Ni...</td>\n",
       "      <td>4</td>\n",
       "      <td>Nicky Cook</td>\n",
       "      <td>http://freemusicarchive.org/music/Chris_and_Ni...</td>\n",
       "      <td>NaN</td>\n",
       "      <td>http://i.creativecommons.org/l/by-nc-nd/3.0/88...</td>\n",
       "      <td>http://fma-files.s3.amazonaws.com/resources/im...</td>\n",
       "      <td>...</td>\n",
       "      <td>NaN</td>\n",
       "      <td>0</td>\n",
       "      <td>978</td>\n",
       "      <td>en</td>\n",
       "      <td>361</td>\n",
       "      <td>NaN</td>\n",
       "      <td>3</td>\n",
       "      <td>NaN</td>\n",
       "      <td>Spiritual Level</td>\n",
       "      <td>http://freemusicarchive.org/music/Chris_and_Ni...</td>\n",
       "    </tr>\n",
       "  </tbody>\n",
       "</table>\n",
       "<p>5 rows × 39 columns</p>\n",
       "</div>"
      ],
      "text/plain": [
       "   track_id  album_id           album_title  \\\n",
       "0         2       1.0  AWOL - A Way Of Life   \n",
       "1         3       1.0  AWOL - A Way Of Life   \n",
       "2         5       1.0  AWOL - A Way Of Life   \n",
       "3        10       6.0     Constant Hitmaker   \n",
       "4        20       4.0                 Niris   \n",
       "\n",
       "                                           album_url  artist_id artist_name  \\\n",
       "0  http://freemusicarchive.org/music/AWOL/AWOL_-_...          1        AWOL   \n",
       "1  http://freemusicarchive.org/music/AWOL/AWOL_-_...          1        AWOL   \n",
       "2  http://freemusicarchive.org/music/AWOL/AWOL_-_...          1        AWOL   \n",
       "3  http://freemusicarchive.org/music/Kurt_Vile/Co...          6   Kurt Vile   \n",
       "4  http://freemusicarchive.org/music/Chris_and_Ni...          4  Nicky Cook   \n",
       "\n",
       "                                          artist_url  \\\n",
       "0            http://freemusicarchive.org/music/AWOL/   \n",
       "1            http://freemusicarchive.org/music/AWOL/   \n",
       "2            http://freemusicarchive.org/music/AWOL/   \n",
       "3       http://freemusicarchive.org/music/Kurt_Vile/   \n",
       "4  http://freemusicarchive.org/music/Chris_and_Ni...   \n",
       "\n",
       "                            artist_website  \\\n",
       "0  http://www.AzillionRecords.blogspot.com   \n",
       "1  http://www.AzillionRecords.blogspot.com   \n",
       "2  http://www.AzillionRecords.blogspot.com   \n",
       "3                      http://kurtvile.com   \n",
       "4                                      NaN   \n",
       "\n",
       "                                  license_image_file  \\\n",
       "0  http://i.creativecommons.org/l/by-nc-sa/3.0/us...   \n",
       "1  http://i.creativecommons.org/l/by-nc-sa/3.0/us...   \n",
       "2  http://i.creativecommons.org/l/by-nc-sa/3.0/us...   \n",
       "3  http://i.creativecommons.org/l/by-nc-nd/3.0/88...   \n",
       "4  http://i.creativecommons.org/l/by-nc-nd/3.0/88...   \n",
       "\n",
       "                            license_image_file_large  ...  track_information  \\\n",
       "0  http://fma-files.s3.amazonaws.com/resources/im...  ...                NaN   \n",
       "1  http://fma-files.s3.amazonaws.com/resources/im...  ...                NaN   \n",
       "2  http://fma-files.s3.amazonaws.com/resources/im...  ...                NaN   \n",
       "3  http://fma-files.s3.amazonaws.com/resources/im...  ...                NaN   \n",
       "4  http://fma-files.s3.amazonaws.com/resources/im...  ...                NaN   \n",
       "\n",
       "  track_instrumental track_interest track_language_code  track_listens  \\\n",
       "0                  0           4656                  en           1293   \n",
       "1                  0           1470                  en            514   \n",
       "2                  0           1933                  en           1151   \n",
       "3                  0          54881                  en          50135   \n",
       "4                  0            978                  en            361   \n",
       "\n",
       "   track_lyricist track_number track_publisher      track_title  \\\n",
       "0             NaN            3             NaN             Food   \n",
       "1             NaN            4             NaN     Electric Ave   \n",
       "2             NaN            6             NaN       This World   \n",
       "3             NaN            1             NaN          Freeway   \n",
       "4             NaN            3             NaN  Spiritual Level   \n",
       "\n",
       "                                           track_url  \n",
       "0  http://freemusicarchive.org/music/AWOL/AWOL_-_...  \n",
       "1  http://freemusicarchive.org/music/AWOL/AWOL_-_...  \n",
       "2  http://freemusicarchive.org/music/AWOL/AWOL_-_...  \n",
       "3  http://freemusicarchive.org/music/Kurt_Vile/Co...  \n",
       "4  http://freemusicarchive.org/music/Chris_and_Ni...  \n",
       "\n",
       "[5 rows x 39 columns]"
      ]
     },
     "execution_count": 21,
     "metadata": {},
     "output_type": "execute_result"
    }
   ],
   "source": [
    "df.head()"
   ]
  },
  {
   "cell_type": "code",
   "execution_count": 22,
   "metadata": {
    "Collapsed": "false"
   },
   "outputs": [],
   "source": [
    "def fix_genres(genre_string):\n",
    "    \"\"\" Turns strings in genre dataframe into a single-genre dictionary\n",
    "    \"\"\"\n",
    "    try:\n",
    "        return ast.literal_eval(genre_string)[0]\n",
    "    except Exception as E:\n",
    "        return None"
   ]
  },
  {
   "cell_type": "code",
   "execution_count": 23,
   "metadata": {
    "Collapsed": "false"
   },
   "outputs": [],
   "source": [
    "df['genre'] = df.apply(lambda row: fix_genres(row.track_genres), axis=1)"
   ]
  },
  {
   "cell_type": "code",
   "execution_count": 34,
   "metadata": {
    "Collapsed": "false"
   },
   "outputs": [
    {
     "name": "stdout",
     "output_type": "stream",
     "text": [
      "['covers/Electronic/Taitsu [Tights].png']\n"
     ]
    }
   ],
   "source": [
    "print(glob(\"covers/Electronic/Taitsu*\"))"
   ]
  },
  {
   "cell_type": "code",
   "execution_count": 40,
   "metadata": {
    "Collapsed": "false"
   },
   "outputs": [],
   "source": [
    "def sanitize_fn(fn):\n",
    "    \"\"\" Sanitizes file names (remove [] and / so they work with globs)\n",
    "    \"\"\"\n",
    "    for ch in ['[', ']']:\n",
    "        if ch in fn:\n",
    "            fn = fn.replace(ch, '')\n",
    "    return fn"
   ]
  },
  {
   "cell_type": "code",
   "execution_count": null,
   "metadata": {
    "Collapsed": "false"
   },
   "outputs": [],
   "source": [
    "for loc,row in tqdm(df.iterrows(), total=df.shape[0]):\n",
    "    try:\n",
    "        if row.genre is None:\n",
    "            continue\n",
    "        genre = row.genre['genre_title']\n",
    "        artist, title = str(row.artist_name), str(row.album_title)\n",
    "        os.makedirs(\"covers/\"+genre, exist_ok=True)\n",
    "        fn = sanitize_fn(\"covers/\"+genre+\"/\"+title.replace('/', '_'))\n",
    "        if len(glob(fn+\"*\")) > 0:\n",
    "            # skip re-downloading covers\n",
    "            continue\n",
    "        album = network.get_album(artist, title)\n",
    "        try:\n",
    "            cover = album.get_cover_image()\n",
    "            if cover is not None:\n",
    "                img = requests.get(cover)\n",
    "                fn += '.'+cover.split('.')[-1]\n",
    "                with open(fn, 'wb') as fh:\n",
    "                    fh.write(img.content)\n",
    "                display(Image(filename=fn))\n",
    "            else:\n",
    "                Path(fn+\".txt\").touch()\n",
    "                #print(f\"Cover not found for {title} by {artist}\")\n",
    "        except Exception as E:\n",
    "            if E is KeyboardInterrupt:\n",
    "                break\n",
    "            else:\n",
    "                Path(fn+\".txt\").touch()\n",
    "                #print(f\"{title} not found\")\n",
    "    except Exception as E:\n",
    "        if E is KeyboardInterrupt:\n",
    "            break\n",
    "        else:\n",
    "            print(loc)\n",
    "            print(E)"
   ]
  },
  {
   "cell_type": "code",
   "execution_count": null,
   "metadata": {
    "Collapsed": "false"
   },
   "outputs": [],
   "source": [
    "!rm -r *.txt"
   ]
  },
  {
   "cell_type": "code",
   "execution_count": 41,
   "metadata": {
    "Collapsed": "false"
   },
   "outputs": [
    {
     "data": {
      "text/plain": [
       "1"
      ]
     },
     "execution_count": 41,
     "metadata": {},
     "output_type": "execute_result"
    }
   ],
   "source": [
    "len(glob(\"covers/Metal/Black Elk*\"))"
   ]
  },
  {
   "cell_type": "code",
   "execution_count": null,
   "metadata": {
    "Collapsed": "false"
   },
   "outputs": [],
   "source": []
  }
 ],
 "metadata": {
  "kernelspec": {
   "display_name": "Python 3",
   "language": "python",
   "name": "python3"
  },
  "language_info": {
   "codemirror_mode": {
    "name": "ipython",
    "version": 3
   },
   "file_extension": ".py",
   "mimetype": "text/x-python",
   "name": "python",
   "nbconvert_exporter": "python",
   "pygments_lexer": "ipython3",
   "version": "3.7.6"
  },
  "widgets": {
   "application/vnd.jupyter.widget-state+json": {
    "state": {},
    "version_major": 2,
    "version_minor": 0
   }
  }
 },
 "nbformat": 4,
 "nbformat_minor": 4
}
